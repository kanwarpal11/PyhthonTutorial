{
  "nbformat": 4,
  "nbformat_minor": 0,
  "metadata": {
    "colab": {
      "provenance": [],
      "authorship_tag": "ABX9TyOfMhaAoqNPmtAzQx1sfXyo",
      "include_colab_link": true
    },
    "kernelspec": {
      "name": "python3",
      "display_name": "Python 3"
    },
    "language_info": {
      "name": "python"
    }
  },
  "cells": [
    {
      "cell_type": "markdown",
      "metadata": {
        "id": "view-in-github",
        "colab_type": "text"
      },
      "source": [
        "<a href=\"https://colab.research.google.com/github/kanwarpal11/PyhthonTutorial/blob/main/Untitled0.ipynb\" target=\"_parent\"><img src=\"https://colab.research.google.com/assets/colab-badge.svg\" alt=\"Open In Colab\"/></a>"
      ]
    },
    {
      "cell_type": "code",
      "execution_count": 1,
      "metadata": {
        "colab": {
          "base_uri": "https://localhost:8080/"
        },
        "id": "LWelHThTG1-8",
        "outputId": "107df9f1-6534-4baf-9679-20661e690443"
      },
      "outputs": [
        {
          "output_type": "stream",
          "name": "stdout",
          "text": [
            "Coefficients: [ 0.07044869  0.17630595 -0.05712834]\n",
            "Intercept: 3.223290307779262\n",
            "Mean Squared Error: 1.0353374738061725\n",
            "R² Score: 0.9408432672552125\n"
          ]
        }
      ],
      "source": [
        "import pandas as pd\n",
        "import numpy as np\n",
        "import matplotlib.pyplot as plt\n",
        "from sklearn.linear_model import LinearRegression\n",
        "from sklearn.metrics import mean_squared_error, r2_score\n",
        "class multivariatemodel(object):\n",
        "    \"\"\"description of class\"\"\"\n",
        "    # Input your data\n",
        "    data = {\n",
        "        'TV': [230.1, 44.5, 17.2, 151.5, 180.8, 8.7, 57.5, 120.2, 144.1, 111.6],\n",
        "        'Radio': [37.8, 39.3, 45.9, 41.3, 10.8, 48.9, 32.8, 19.6, 16.0, 12.6],\n",
        "        'Newspaper': [69.2, 45.1, 69.3, 58.4, 58.4, 75.0, 23.5, 11.6, 40.3, 37.9],\n",
        "        'Sales': [22.1, 10.4, 9.3, 18.5, 12.9, 7.2, 11.8, 13.2, 15.6, 12.2]\n",
        "    }\n",
        "\n",
        "    df = pd.DataFrame(data)\n",
        "\n",
        "    X = df[['TV', 'Radio', 'Newspaper']]\n",
        "    y = df['Sales']\n",
        "\n",
        "\n",
        "    model = LinearRegression()\n",
        "    model.fit(X, y)\n",
        "    y_pred = model.predict(X)\n",
        "\n",
        "    print(\"Coefficients:\", model.coef_)\n",
        "    print(\"Intercept:\", model.intercept_)\n",
        "    print(\"Mean Squared Error:\", mean_squared_error(y, y_pred))\n",
        "    print(\"R² Score:\", r2_score(y, y_pred))\n"
      ]
    }
  ]
}