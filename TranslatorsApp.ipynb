{
  "nbformat": 4,
  "nbformat_minor": 0,
  "metadata": {
    "colab": {
      "provenance": [],
      "authorship_tag": "ABX9TyOQGTVd++J4Y/o5caYG+G0O",
      "include_colab_link": true
    },
    "kernelspec": {
      "name": "python3",
      "display_name": "Python 3"
    },
    "language_info": {
      "name": "python"
    }
  },
  "cells": [
    {
      "cell_type": "markdown",
      "metadata": {
        "id": "view-in-github",
        "colab_type": "text"
      },
      "source": [
        "<a href=\"https://colab.research.google.com/github/kanwarpal11/PyhthonTutorial/blob/DevBranch/TranslatorsApp.ipynb\" target=\"_parent\"><img src=\"https://colab.research.google.com/assets/colab-badge.svg\" alt=\"Open In Colab\"/></a>"
      ]
    },
    {
      "cell_type": "code",
      "execution_count": 1,
      "metadata": {
        "colab": {
          "base_uri": "https://localhost:8080/",
          "height": 384
        },
        "id": "PMJ03lQ8TVy0",
        "outputId": "5abe90b7-ad87-466a-8219-e4a7f3ed8727"
      },
      "outputs": [
        {
          "output_type": "error",
          "ename": "ModuleNotFoundError",
          "evalue": "No module named 'speech_recognition'",
          "traceback": [
            "\u001b[0;31m---------------------------------------------------------------------------\u001b[0m",
            "\u001b[0;31mModuleNotFoundError\u001b[0m                       Traceback (most recent call last)",
            "\u001b[0;32m/tmp/ipython-input-2047067368.py\u001b[0m in \u001b[0;36m<cell line: 0>\u001b[0;34m()\u001b[0m\n\u001b[0;32m----> 1\u001b[0;31m \u001b[0;32mimport\u001b[0m \u001b[0mspeech_recognition\u001b[0m \u001b[0;32mas\u001b[0m \u001b[0msr\u001b[0m\u001b[0;34m\u001b[0m\u001b[0;34m\u001b[0m\u001b[0m\n\u001b[0m\u001b[1;32m      2\u001b[0m \u001b[0;32mfrom\u001b[0m \u001b[0mgoogletrans\u001b[0m \u001b[0;32mimport\u001b[0m \u001b[0mTranslator\u001b[0m\u001b[0;34m\u001b[0m\u001b[0;34m\u001b[0m\u001b[0m\n\u001b[1;32m      3\u001b[0m \u001b[0;32mfrom\u001b[0m \u001b[0mgtts\u001b[0m \u001b[0;32mimport\u001b[0m \u001b[0mgTTS\u001b[0m\u001b[0;34m\u001b[0m\u001b[0;34m\u001b[0m\u001b[0m\n\u001b[1;32m      4\u001b[0m \u001b[0;32mfrom\u001b[0m \u001b[0mpydub\u001b[0m \u001b[0;32mimport\u001b[0m \u001b[0mAudioSegment\u001b[0m\u001b[0;34m\u001b[0m\u001b[0;34m\u001b[0m\u001b[0m\n\u001b[1;32m      5\u001b[0m \u001b[0;32mfrom\u001b[0m \u001b[0mpydub\u001b[0m\u001b[0;34m.\u001b[0m\u001b[0mplayback\u001b[0m \u001b[0;32mimport\u001b[0m \u001b[0mplay\u001b[0m\u001b[0;34m\u001b[0m\u001b[0;34m\u001b[0m\u001b[0m\n",
            "\u001b[0;31mModuleNotFoundError\u001b[0m: No module named 'speech_recognition'",
            "",
            "\u001b[0;31m---------------------------------------------------------------------------\u001b[0;32m\nNOTE: If your import is failing due to a missing package, you can\nmanually install dependencies using either !pip or !apt.\n\nTo view examples of installing some common dependencies, click the\n\"Open Examples\" button below.\n\u001b[0;31m---------------------------------------------------------------------------\u001b[0m\n"
          ],
          "errorDetails": {
            "actions": [
              {
                "action": "open_url",
                "actionText": "Open Examples",
                "url": "/notebooks/snippets/importing_libraries.ipynb"
              }
            ]
          }
        }
      ],
      "source": [
        "import speech_recognition as sr\n",
        "from googletrans import Translator\n",
        "from gtts import gTTS\n",
        "from pydub import AudioSegment\n",
        "from pydub.playback import play\n",
        "import os\n",
        "class TranslatorsApp(object):\n",
        "    # 🌐 Language options\n",
        "    language_options = {\n",
        "        'English': 'en',\n",
        "        'Hindi': 'hi',\n",
        "        'Spanish': 'es',\n",
        "        'French': 'fr',\n",
        "        'German': 'de'\n",
        "    }\n",
        "    @staticmethod\n",
        "    def get_language_choice(prompt, options):\n",
        "        print(prompt)\n",
        "        for i, lang in enumerate(options.keys(), 1):\n",
        "            print(f\"{i}. {lang}\")\n",
        "        choice = int(input(\"Enter choice (1-5): \"))\n",
        "        return list(options.items())[choice - 1]\n",
        "\n",
        "    def capture_speech(lang_code):\n",
        "        recognizer = sr.Recognizer()\n",
        "        with sr.Microphone() as source:\n",
        "            print(\"🎤 Speak now...\")\n",
        "            recognizer.adjust_for_ambient_noise(source)\n",
        "            audio = recognizer.listen(source)\n",
        "\n",
        "            try:\n",
        "                text = recognizer.recognize_google(audio, language=lang_code)\n",
        "                print(f\"📝 You said: {text}\")\n",
        "                return text\n",
        "            except sr.UnknownValueError:\n",
        "                print(\"❌ Could not understand audio.\")\n",
        "            except sr.RequestError as e:\n",
        "                print(f\"❌ API error: {e}\")\n",
        "            return None\n",
        "\n",
        "    def translate_text(text, src_lang, dest_lang):\n",
        "        translator = Translator()\n",
        "        translated = translator.translate(text, src=src_lang, dest=dest_lang)\n",
        "        print(f\"🌍 Translated: {translated.text}\")\n",
        "        return translated.text\n",
        "\n",
        "    def speak_text(text, lang_code):\n",
        "        tts = gTTS(text=text, lang=lang_code)\n",
        "        tts.save(\"translated.mp3\")\n",
        "        sound = AudioSegment.from_mp3(\"translated.mp3\")\n",
        "        play(sound)\n",
        "        print(\"Using ffmpeg at:\", AudioSegment.converter)\n",
        "        os.remove(\"translated.mp3\")\n",
        "\n",
        "    def main():\n",
        "        print(\"🔄 Voice Translator App\")\n",
        "\n",
        "        input_lang_name, input_lang_code = TranslatorsApp.get_language_choice(\"Select input language:\", TranslatorsApp.language_options)\n",
        "        output_lang_name, output_lang_code = TranslatorsApp.get_language_choice(\"Select output language:\", TranslatorsApp.language_options)\n",
        "        # output_lang_name, output_lang_code = get_language_choice(\"Select output language:\", language_options)\n",
        "\n",
        "        # Capture speech\n",
        "        spoken_text = TranslatorsApp.capture_speech(input_lang_code)\n",
        "        if not spoken_text:\n",
        "            return\n",
        "\n",
        "        # Translate and speak\n",
        "        translated_text = TranslatorsApp.translate_text(spoken_text, input_lang_code, output_lang_code)\n",
        "        TranslatorsApp.speak_text(translated_text, output_lang_code)\n",
        "\n",
        "\n",
        "if __name__ == \"__main__\":\n",
        " TranslatorsApp.main()\n"
      ]
    }
  ]
}